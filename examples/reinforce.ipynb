{
 "cells": [
  {
   "cell_type": "code",
   "execution_count": 24,
   "metadata": {},
   "outputs": [],
   "source": [
    "import torch\n",
    "from torch import nn\n",
    "import torch.nn.functional as F\n",
    "\n",
    "import gym\n",
    "from pfrl.policies import SoftmaxCategoricalHead\n",
    "from pfrl.agents import REINFORCE\n",
    "from pfrl.replay_buffers import ReplayBuffer\n",
    "\n",
    "from repaired.replay import ExperienceCollection"
   ]
  },
  {
   "cell_type": "code",
   "execution_count": 25,
   "metadata": {},
   "outputs": [],
   "source": [
    "EPS = 1e-2\n",
    "GAMMA = 0.9\n",
    "EPSILON = 0.3\n",
    "N_EPISODES = 100\n",
    "MAX_EPISODE_LEN = 200\n",
    "\n",
    "HIDDEN_SIZE = 200"
   ]
  },
  {
   "cell_type": "code",
   "execution_count": 26,
   "metadata": {},
   "outputs": [
    {
     "name": "stderr",
     "output_type": "stream",
     "text": [
      "/Users/education/DATA/projects/ai/reinforcement-learning/repaired/venv/lib/python3.9/site-packages/gym/envs/registration.py:505: UserWarning: \u001b[33mWARN: The environment CartPole-v0 is out of date. You should consider upgrading to version `v1` with the environment ID `CartPole-v1`.\u001b[0m\n",
      "  logger.warn(\n"
     ]
    }
   ],
   "source": [
    "env = gym.make('CartPole-v0')\n",
    "obs_size = env.observation_space.low.size\n",
    "n_actions = env.action_space.n"
   ]
  },
  {
   "cell_type": "code",
   "execution_count": 27,
   "metadata": {},
   "outputs": [],
   "source": [
    "model = nn.Sequential(\n",
    "    nn.Linear(obs_size, HIDDEN_SIZE),\n",
    "    nn.LeakyReLU(0.2),\n",
    "    nn.Linear(HIDDEN_SIZE, HIDDEN_SIZE),\n",
    "    nn.LeakyReLU(0.2),\n",
    "    nn.Linear(HIDDEN_SIZE, n_actions),\n",
    "    SoftmaxCategoricalHead(),\n",
    ")\n",
    "\n",
    "optimizer = torch.optim.Adam(model.parameters(), eps=EPS)\n",
    "agent = REINFORCE(model, optimizer)"
   ]
  },
  {
   "cell_type": "code",
   "execution_count": 44,
   "metadata": {},
   "outputs": [],
   "source": [
    "levels = torch.tensor([1, 2, 3, 4, 5])\n",
    "# score_levels = torch.zeros_like(levels) # global level scores\n",
    "# last_count_levels = torch.zeros_like(levels) # global level timestamps\n",
    "# last_episode = 0\n",
    "# visited_levels = torch.tensor([])"
   ]
  },
  {
   "cell_type": "code",
   "execution_count": 29,
   "metadata": {},
   "outputs": [
    {
     "name": "stdout",
     "output_type": "stream",
     "text": [
      "episode: 10 R: 63.0\n",
      "episode: 20 R: 27.0\n",
      "episode: 30 R: 48.0\n",
      "episode: 40 R: 135.0\n",
      "episode: 50 R: 146.0\n",
      "statistics: [('average_entropy', 0.5440467726716249)]\n",
      "episode: 60 R: 161.0\n",
      "episode: 70 R: 105.0\n",
      "episode: 80 R: 200.0\n",
      "episode: 90 R: 78.0\n",
      "episode: 100 R: 184.0\n",
      "statistics: [('average_entropy', 0.5520932629083812)]\n",
      "Finished.\n"
     ]
    }
   ],
   "source": [
    "last_episode = 0\n",
    "replay_buffer = ReplayBuffer()\n",
    "\n",
    "for i in range(1, N_EPISODES + 1):\n",
    "    obs = env.reset()\n",
    "    score_levels = torch.zeros_like(levels) # global level scores\n",
    "    last_count_levels = torch.zeros_like(levels) # global level timestamps\n",
    "\n",
    "    R = 0  # return (sum of rewards)\n",
    "    t = 0  # time step\n",
    "    while True:\n",
    "        # Uncomment to watch the behavior in a GUI window\n",
    "        # env.render()\n",
    "        action = agent.act(obs)\n",
    "        obs, reward, done, _ = env.step(action)\n",
    "        R += reward\n",
    "        t += 1\n",
    "        reset = t == MAX_EPISODE_LEN\n",
    "        agent.observe(obs, reward, done, reset)\n",
    "        \n",
    "        if done or reset:\n",
    "            break\n",
    "    if i % 10 == 0:\n",
    "        print('episode:', i, 'R:', R)\n",
    "    if i % 50 == 0:\n",
    "        print('statistics:', agent.get_statistics())\n",
    "\n",
    "    last_episode += 1"
   ]
  },
  {
   "cell_type": "code",
   "execution_count": null,
   "metadata": {},
   "outputs": [],
   "source": []
  }
 ],
 "metadata": {
  "kernelspec": {
   "display_name": "venv",
   "language": "python",
   "name": "python3"
  },
  "language_info": {
   "codemirror_mode": {
    "name": "ipython",
    "version": 3
   },
   "file_extension": ".py",
   "mimetype": "text/x-python",
   "name": "python",
   "nbconvert_exporter": "python",
   "pygments_lexer": "ipython3",
   "version": "3.9.13"
  },
  "orig_nbformat": 4
 },
 "nbformat": 4,
 "nbformat_minor": 2
}
