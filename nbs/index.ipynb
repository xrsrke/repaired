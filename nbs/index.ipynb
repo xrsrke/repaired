{
 "cells": [
  {
   "attachments": {},
   "cell_type": "markdown",
   "metadata": {},
   "source": [
    "REPAIRED - 🚧 WORK IN PROGRESS 🚧\n",
    "---------\n",
    "\n",
    "![image.png](../repaired.png)\n",
    "\n",
    "\n",
    "Paper: [Replay-Guided Adversarial Environment Design (REPAIRED)](https://arxiv.org/abs/2110.02439)\n",
    "\n",
    "I’m currently working towards this paper. Check out my learning progress\n",
    "here: https://twitter.com/xariusrke/status/1630503779220226053"
   ]
  }
 ],
 "metadata": {
  "kernelspec": {
   "display_name": "python3",
   "language": "python",
   "name": "python3"
  }
 },
 "nbformat": 4,
 "nbformat_minor": 4
}
